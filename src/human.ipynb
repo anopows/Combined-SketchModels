{
 "cells": [
  {
   "cell_type": "code",
   "execution_count": 1,
   "metadata": {},
   "outputs": [],
   "source": [
    "import numpy as np\n",
    "import tensorflow as tf\n",
    "import os\n",
    "\n",
    "from input_pipeline import train_data\n",
    "\n",
    "batch_size = 30"
   ]
  },
  {
   "cell_type": "code",
   "execution_count": 2,
   "metadata": {},
   "outputs": [],
   "source": [
    "_, _, images, labels = train_data(batch_size=batch_size, mode=None, small=True, int_labels=True)"
   ]
  },
  {
   "cell_type": "code",
   "execution_count": 3,
   "metadata": {
    "scrolled": true
   },
   "outputs": [],
   "source": [
    "labels_out = []\n",
    "images_out = np.empty(shape=(0,224,224))\n",
    "\n",
    "with tf.Session() as sess:\n",
    "    init_op = tf.group(tf.global_variables_initializer(), tf.local_variables_initializer())\n",
    "    sess.run(init_op)\n",
    "    sess.run(tf.tables_initializer())\n",
    "\n",
    "    for j in range(10):\n",
    "        imgs, lbls = sess.run([images, labels])\n",
    "        labels_out += list(lbls)\n",
    "\n",
    "        imgs = imgs.reshape((-1, 224, 224))\n",
    "        images_out = np.concatenate((images_out, imgs))\n"
   ]
  },
  {
   "cell_type": "code",
   "execution_count": 4,
   "metadata": {},
   "outputs": [],
   "source": [
    "preds = []"
   ]
  },
  {
   "cell_type": "code",
   "execution_count": 5,
   "metadata": {},
   "outputs": [],
   "source": [
    "import matplotlib\n",
    "matplotlib.use('TkAgg')\n",
    "import numpy as np\n",
    "from matplotlib.backends.backend_tkagg import FigureCanvasTkAgg\n",
    "from matplotlib.figure import Figure\n",
    "from tkinter import *\n",
    "\n",
    "class mclass:\n",
    "    def __init__(self,  window):\n",
    "        self.i = 0\n",
    "        self.canvas = None\n",
    "        \n",
    "        self.window = window\n",
    "        topframe1 = Frame(window)\n",
    "        topframe1.pack()\n",
    "        topframe2 = Frame(window)\n",
    "        topframe2.pack()\n",
    "        self.button1 = Button (topframe1, text=\"apple\", command= lambda : self.click(0))\n",
    "        self.button2 = Button (topframe1, text=\"banana\", command= lambda : self.click(1))\n",
    "        self.button3 = Button (topframe1, text=\"blackberry\", command= lambda : self.click(2))\n",
    "        self.button4 = Button (topframe1, text=\"grapes\", command= lambda : self.click(3))\n",
    "        self.button5 = Button (topframe1, text=\"pear\", command= lambda : self.click(4))\n",
    "        self.button6 = Button (topframe2, text=\"airplane\", command= lambda : self.click(5))\n",
    "        self.button7 = Button (topframe2, text=\"bus\", command= lambda : self.click(6))\n",
    "        self.button8 = Button (topframe2, text=\"helicopter\", command= lambda : self.click(7))\n",
    "        self.button9 = Button (topframe2, text=\"truck\", command= lambda : self.click(8))\n",
    "        self.button10 = Button(topframe2, text=\"van\", command= lambda : self.click(9))\n",
    "\n",
    "        self.button1.pack(side=LEFT)\n",
    "        self.button2.pack(side=LEFT)\n",
    "        self.button3.pack(side=LEFT)\n",
    "        self.button4.pack(side=LEFT)\n",
    "        self.button5.pack(side=LEFT)\n",
    "        self.button6.pack(side=LEFT)\n",
    "        self.button7.pack(side=LEFT)\n",
    "        self.button8.pack(side=LEFT)\n",
    "        self.button9.pack(side=LEFT)\n",
    "        self.button10.pack(side=LEFT)\n",
    "        \n",
    "        self.plot()\n",
    "\n",
    "\n",
    "    def click(self, val):\n",
    "        global preds\n",
    "        preds += [val]\n",
    "        \n",
    "        self.i += 1\n",
    "        self.plot()\n",
    "        \n",
    "    def plot (self):\n",
    "        fig = Figure(figsize=(3,3))\n",
    "        a = fig.add_subplot(111)\n",
    "        \n",
    "        a.axis('off')\n",
    "        a.set_title(\"Figure: \" + str(self.i))\n",
    "        a.imshow(images_out[self.i], cmap='gray')\n",
    "\n",
    "        if self.canvas:\n",
    "            self.canvas.get_tk_widget().destroy()\n",
    "            \n",
    "        self.canvas = FigureCanvasTkAgg(fig, master=self.window)              \n",
    "        self.canvas.get_tk_widget().pack()\n",
    "        self.canvas.draw()\n",
    "\n",
    "window= Tk()\n",
    "start= mclass (window)\n",
    "window.mainloop()"
   ]
  },
  {
   "cell_type": "code",
   "execution_count": 6,
   "metadata": {},
   "outputs": [],
   "source": [
    "correct_preds = 0\n",
    "for a,b in zip(labels_out, preds): \n",
    "    correct_preds += (a == b)\n",
    "\n",
    "wrong_preds = []\n",
    "for i in range(len(preds)):\n",
    "    if preds[i] != labels_out[i]:\n",
    "        wrong_preds += [i]"
   ]
  },
  {
   "cell_type": "code",
   "execution_count": 7,
   "metadata": {},
   "outputs": [
    {
     "name": "stdout",
     "output_type": "stream",
     "text": [
      "Correct predictions: 0.7209302325581395\n"
     ]
    }
   ],
   "source": [
    "print(\"Correct predictions:\", correct_preds/len(preds))"
   ]
  },
  {
   "cell_type": "code",
   "execution_count": 8,
   "metadata": {
    "scrolled": true
   },
   "outputs": [
    {
     "data": {
      "text/plain": [
       "[0, 2, 9, 10, 11, 12, 21, 22, 29, 31, 34, 36]"
      ]
     },
     "execution_count": 8,
     "metadata": {},
     "output_type": "execute_result"
    }
   ],
   "source": [
    "wrong_preds"
   ]
  },
  {
   "cell_type": "code",
   "execution_count": 9,
   "metadata": {},
   "outputs": [],
   "source": [
    "classnames = ['apple', 'banana', 'blackberry', 'grapes', 'pear', 'airplane', 'bus', 'helicopter', 'truck', 'van']"
   ]
  },
  {
   "cell_type": "code",
   "execution_count": 10,
   "metadata": {},
   "outputs": [
    {
     "name": "stdout",
     "output_type": "stream",
     "text": [
      "truck\n",
      "blackberry\n",
      "bus\n",
      "van\n",
      "van\n",
      "van\n",
      "van\n",
      "van\n",
      "van\n",
      "truck\n",
      "bus\n",
      "van\n"
     ]
    }
   ],
   "source": [
    "for i in wrong_preds:\n",
    "    cur_label = labels_out[i]\n",
    "    print(classnames[cur_label])"
   ]
  }
 ],
 "metadata": {
  "kernelspec": {
   "display_name": "Python 3",
   "language": "python",
   "name": "python3"
  },
  "language_info": {
   "codemirror_mode": {
    "name": "ipython",
    "version": 3
   },
   "file_extension": ".py",
   "mimetype": "text/x-python",
   "name": "python",
   "nbconvert_exporter": "python",
   "pygments_lexer": "ipython3",
   "version": "3.6.7"
  }
 },
 "nbformat": 4,
 "nbformat_minor": 2
}

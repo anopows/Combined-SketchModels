{
 "cells": [
  {
   "cell_type": "markdown",
   "metadata": {},
   "source": [
    "# Store embeddings for tSNE (Tensorboard)"
   ]
  },
  {
   "cell_type": "code",
   "execution_count": 1,
   "metadata": {},
   "outputs": [
    {
     "name": "stdout",
     "output_type": "stream",
     "text": [
      "GPU Device in use: ''\r\n"
     ]
    }
   ],
   "source": [
    "import os\n",
    "import numpy as np\n",
    "import tensorflow as tf\n",
    "from tensorflow.contrib.layers import xavier_initializer as xav_init\n",
    "\n",
    "from input_pipeline import eval_data\n",
    "from model_fns import vgg16,inceptionv4,resnet50\n",
    "\n",
    "# Run choices\n",
    "cur_model   = resnet50\n",
    "cur_checkpt = 'threesplit_resnet_hingeloss_alpha1'\n",
    "cur_name    = 'threesplit_resnet_hingeloss'\n",
    "cur_scope   = 'threesplit'\n",
    "\n",
    "# Only use GPU RAM that is required\n",
    "config = tf.ConfigProto()\n",
    "config.gpu_options.allow_growth = True\n",
    "\n",
    "os.environ[\"CUDA_DEVICE_ORDER\"]    = 'PCI_BUS_ID'\n",
    "os.environ[\"CUDA_VISIBLE_DEVICES\"] = ''\n",
    "\n",
    "!echo \"GPU Device in use: '$CUDA_VISIBLE_DEVICES'\"\n",
    "\n",
    "# Folders for storage/retrival\n",
    "main_directory  = '../'\n",
    "data_directory        = main_directory + 'data/'\n",
    "embedding_directory   = main_directory + 'embeds/'\n",
    "checkpoints_directory = main_directory + 'checkpts/'\n",
    "\n",
    "class_names = [] # 345 classes\n",
    "class_names_small = [] # 5 fruits, 5 vehicles\n",
    "with open(data_directory + 'classnames.csv', 'r') as cln_file:\n",
    "    for line in cln_file:\n",
    "        class_names += [line[:-1]]\n",
    "with open(data_directory + 'classnames_small.csv', 'r') as cln_file:\n",
    "    for line in cln_file:\n",
    "        class_names_small += [line[:-1]]\n",
    "\n",
    "class_dict = {}\n",
    "for i, label in enumerate(class_names):\n",
    "    class_dict[label] = i\n",
    "class_dict_small = {}\n",
    "for i, label in enumerate(class_names_small):\n",
    "    class_dict_small[label] = i"
   ]
  },
  {
   "cell_type": "code",
   "execution_count": 2,
   "metadata": {},
   "outputs": [],
   "source": [
    "_, _, images, labels = eval_data(batch_size=30, small=True, int_labels=False)"
   ]
  },
  {
   "cell_type": "code",
   "execution_count": 3,
   "metadata": {},
   "outputs": [
    {
     "name": "stdout",
     "output_type": "stream",
     "text": [
      "WARNING:tensorflow:From /local/home/andy/.virtualenvs/main/lib/python3.5/site-packages/tensorflow/contrib/slim/python/slim/nets/resnet_v2.py:224: calling reduce_mean (from tensorflow.python.ops.math_ops) with keep_dims is deprecated and will be removed in a future version.\n",
      "Instructions for updating:\n",
      "keep_dims is deprecated, use keepdims instead\n"
     ]
    }
   ],
   "source": [
    "logits = cur_model(images, mode=None, name=cur_scope)"
   ]
  },
  {
   "cell_type": "code",
   "execution_count": null,
   "metadata": {},
   "outputs": [],
   "source": [
    "# from tensorflow.python.tools.inspect_checkpoint import print_tensors_in_checkpoint_file\n",
    "# print_tensors_in_checkpoint_file('../checkpts/threesplit_resnet_hingeloss_alpha1/checkpoint-5000', \n",
    "#                                  tensor_name='', all_tensors=False)"
   ]
  },
  {
   "cell_type": "code",
   "execution_count": 5,
   "metadata": {},
   "outputs": [],
   "source": [
    "# # Limit CPU\n",
    "# session_conf = tf.ConfigProto(\n",
    "#       intra_op_parallelism_threads=3,\n",
    "#       inter_op_parallelism_threads=3)\n",
    "# sess = tf.Session(config=session_conf)"
   ]
  },
  {
   "cell_type": "code",
   "execution_count": 6,
   "metadata": {
    "scrolled": true
   },
   "outputs": [
    {
     "name": "stdout",
     "output_type": "stream",
     "text": [
      "INFO:tensorflow:Restoring parameters from ../checkpts/threesplit_resnet_hingeloss_alpha1/checkpoint-5000\n",
      "INFO:tensorflow:Restoring parameters from ../checkpts/threesplit_resnet_hingeloss_alpha1/checkpoint-10000\n",
      "INFO:tensorflow:Restoring parameters from ../checkpts/threesplit_resnet_hingeloss_alpha1/checkpoint-15000\n",
      "INFO:tensorflow:Restoring parameters from ../checkpts/threesplit_resnet_hingeloss_alpha1/checkpoint-20000\n",
      "INFO:tensorflow:Restoring parameters from ../checkpts/threesplit_resnet_hingeloss_alpha1/checkpoint-25000\n",
      "INFO:tensorflow:Restoring parameters from ../checkpts/threesplit_resnet_hingeloss_alpha1/checkpoint-30000\n",
      "INFO:tensorflow:Restoring parameters from ../checkpts/threesplit_resnet_hingeloss_alpha1/checkpoint-35000\n",
      "INFO:tensorflow:Restoring parameters from ../checkpts/threesplit_resnet_hingeloss_alpha1/checkpoint-40000\n",
      "INFO:tensorflow:Restoring parameters from ../checkpts/threesplit_resnet_hingeloss_alpha1/checkpoint-45000\n",
      "INFO:tensorflow:Restoring parameters from ../checkpts/threesplit_resnet_hingeloss_alpha1/checkpoint-50000\n"
     ]
    }
   ],
   "source": [
    "from tensorflow.contrib.tensorboard.plugins import projector\n",
    "\n",
    "saver = tf.train.Saver(\n",
    "    var_list=tf.get_collection(tf.GraphKeys.GLOBAL_VARIABLES, scope=cur_scope)\n",
    ")\n",
    "    \n",
    "checkpoint_dir = checkpoints_directory + cur_checkpt + '/'\n",
    "embedding_dir  = embedding_directory   + cur_name + '/'\n",
    "\n",
    "if not os.path.exists(checkpoint_dir):\n",
    "    raise Exception(\"Checkpoint directory not found\\nModel name: {}\\nDirectory: {}\".format(model_name, checkpoint_dir))\n",
    "if not os.path.exists(embedding_dir):\n",
    "    os.makedirs(embedding_dir)\n",
    "\n",
    "ckpt_saves = [5000,10000,15000,20000,25000,30000,35000,40000,45000,50000]\n",
    "# ckpt_saves = [2000,4000,6000]\n",
    "embeds_out = {ckpt_id : np.empty(shape=(0,64))            for ckpt_id in ckpt_saves}\n",
    "labels_out = {ckpt_id : np.empty(shape=(0), dtype=np.str) for ckpt_id in ckpt_saves}\n",
    "\n",
    "# Calculating embeddings\n",
    "with tf.Session(config=session_conf) as sess: \n",
    "    init_op = tf.group(tf.global_variables_initializer(), tf.local_variables_initializer())\n",
    "    sess.run(init_op)\n",
    "    sess.run(tf.tables_initializer())\n",
    "\n",
    "    for ckpt_id in ckpt_saves:\n",
    "        saver.restore(sess, checkpoint_dir + 'checkpoint-' + str(ckpt_id))\n",
    "        \n",
    "        for _ in range(50):\n",
    "            embed_out, label_out = sess.run([logits, labels])\n",
    "            embeds_out[ckpt_id] = np.append(embeds_out[ckpt_id], embed_out, axis=0)\n",
    "            labels_out[ckpt_id] = np.append(labels_out[ckpt_id], label_out, axis=0)\n",
    "    \n",
    "# Storing embeddings\n",
    "embedding_vars = {ckpt_id : tf.Variable(embeds_out[ckpt_id], name=cur_name + '-embedding-checkpt' + str(ckpt_id)) \\\n",
    "                  for ckpt_id in ckpt_saves}\n",
    "label_files    = {ckpt_id : os.path.abspath(embedding_dir + 'labels_ckpt-' + str(ckpt_id) + '.csv') \\\n",
    "                  for ckpt_id in ckpt_saves}\n",
    "for ckpt_id in ckpt_saves:\n",
    "    np.savetxt(label_files[ckpt_id], labels_out[ckpt_id].astype(np.str), fmt=\"%s\") # Write labels to file\n",
    "\n",
    "with tf.Session(config=config) as sess:\n",
    "    writer = tf.summary.FileWriter(embedding_dir, sess.graph)\n",
    "    for embedding_var in embedding_vars.values():\n",
    "        sess.run(embedding_var.initializer)\n",
    "    # Add embedding visualizer\n",
    "    config_projector = projector.ProjectorConfig()\n",
    "    \n",
    "    for ckpt_id, label_file in label_files.items():\n",
    "        embedding = config_projector.embeddings.add()\n",
    "        embedding.tensor_name = embedding_vars[ckpt_id].name\n",
    "        embedding.metadata_path = label_file\n",
    "        \n",
    "    projector.visualize_embeddings(writer, config_projector)\n",
    "    # Save the model\n",
    "    saver_embed = tf.train.Saver(list(embedding_vars.values()))\n",
    "    saver_embed.save(sess, embedding_dir + 'multiple_checkpoints')\n"
   ]
  }
 ],
 "metadata": {
  "kernelspec": {
   "display_name": "Python 3",
   "language": "python",
   "name": "python3"
  },
  "language_info": {
   "codemirror_mode": {
    "name": "ipython",
    "version": 3
   },
   "file_extension": ".py",
   "mimetype": "text/x-python",
   "name": "python",
   "nbconvert_exporter": "python",
   "pygments_lexer": "ipython3",
   "version": "3.6.7"
  }
 },
 "nbformat": 4,
 "nbformat_minor": 2
}
